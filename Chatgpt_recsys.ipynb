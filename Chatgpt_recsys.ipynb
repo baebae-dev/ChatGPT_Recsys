{
 "cells": [
  {
   "cell_type": "markdown",
   "id": "01422061",
   "metadata": {},
   "source": [
    "\n",
    "# Data\n",
    "- https://www.kaggle.com/datasets/rounakbanik/the-movies-dataset"
   ]
  },
  {
   "cell_type": "code",
   "execution_count": 7,
   "id": "1925745b",
   "metadata": {},
   "outputs": [
    {
     "data": {
      "text/plain": "<IPython.core.display.HTML object>",
      "text/html": "\n<style>\n    div#notebook-container    { width: 95%; }\n    div#menubar-container     { width: 95%; }\n    div#maintoolbar-container { width: 99%; }\n\n</style>\n"
     },
     "metadata": {},
     "output_type": "display_data"
    }
   ],
   "source": [
    "from IPython.display import display, HTML\n",
    "display(HTML(data=\"\"\"\n",
    "<style>\n",
    "    div#notebook-container    { width: 95%; }\n",
    "    div#menubar-container     { width: 95%; }\n",
    "    div#maintoolbar-container { width: 99%; }\n",
    "\n",
    "</style>\n",
    "\"\"\"))"
   ]
  },
  {
   "cell_type": "code",
   "execution_count": null,
   "id": "3e46dd11",
   "metadata": {
    "pycharm": {
     "is_executing": true
    }
   },
   "outputs": [],
   "source": [
    "import requests\n",
    "\n",
    "import pandas as pd\n",
    "import numpy as np\n",
    "import copy\n",
    "import json\n",
    "\n",
    "from ast import literal_eval\n",
    "\n",
    "import torch\n",
    "from sentence_transformers import SentenceTransformer, util\n",
    "from transformers import AutoTokenizer, AutoModel\n",
    "from transformers import OwlViTProcessor, OwlViTForObjectDetection\n",
    "from transformers import pipeline\n",
    "from transformers import GPT2TokenizerFast\n",
    "from PIL import Image\n",
    "\n",
    "import pickle"
   ]
  },
  {
   "cell_type": "code",
   "execution_count": 1,
   "id": "b5fea154",
   "metadata": {},
   "outputs": [],
   "source": [
    "import matplotlib.pyplot as plt\n",
    "from typing import List, Tuple, Dict\n",
    "\n",
    "import sklearn.datasets as datasets\n",
    "import sklearn.manifold as manifold"
   ]
  },
  {
   "cell_type": "code",
   "execution_count": 3,
   "id": "ffd81bad",
   "metadata": {},
   "outputs": [],
   "source": [
    "import openai\n",
    "import os\n",
    "import sys\n",
    "from dotenv import load_dotenv\n",
    "\n",
    "load_dotenv()    \n",
    "openai.api_key = os.getenv(\"OPENAI_API_KEY\")"
   ]
  },
  {
   "cell_type": "code",
   "execution_count": 4,
   "id": "4a88f0a5",
   "metadata": {},
   "outputs": [],
   "source": [
    "cur_os = sys.platform"
   ]
  },
  {
   "cell_type": "code",
   "execution_count": 5,
   "id": "dd02d945",
   "metadata": {},
   "outputs": [],
   "source": [
    "model_path = f\"D:/github\" if cur_os.startswith('win') else None"
   ]
  },
  {
   "cell_type": "markdown",
   "id": "755c7288",
   "metadata": {},
   "source": [
    "## 데이터셋"
   ]
  },
  {
   "cell_type": "code",
   "execution_count": 1,
   "id": "widespread-trial",
   "metadata": {},
   "outputs": [
    {
     "ename": "NameError",
     "evalue": "name 'pd' is not defined",
     "output_type": "error",
     "traceback": [
      "\u001B[0;31m---------------------------------------------------------------------------\u001B[0m",
      "\u001B[0;31mNameError\u001B[0m                                 Traceback (most recent call last)",
      "\u001B[0;32m/var/folders/_l/8h89bln50rz22108x46m_0b40000gn/T/ipykernel_40343/1163356011.py\u001B[0m in \u001B[0;36m<module>\u001B[0;34m\u001B[0m\n\u001B[0;32m----> 1\u001B[0;31m \u001B[0mmovies_metadata\u001B[0m \u001B[0;34m=\u001B[0m \u001B[0mpd\u001B[0m\u001B[0;34m.\u001B[0m\u001B[0mread_csv\u001B[0m\u001B[0;34m(\u001B[0m\u001B[0;34m'./movie_data/movies_metadata.csv'\u001B[0m\u001B[0;34m,\u001B[0m \u001B[0msep\u001B[0m\u001B[0;34m=\u001B[0m\u001B[0;34m\",\"\u001B[0m\u001B[0;34m,\u001B[0m \u001B[0mdtype\u001B[0m\u001B[0;34m=\u001B[0m\u001B[0mstr\u001B[0m\u001B[0;34m)\u001B[0m\u001B[0;34m\u001B[0m\u001B[0;34m\u001B[0m\u001B[0m\n\u001B[0m\u001B[1;32m      2\u001B[0m \u001B[0mprint\u001B[0m\u001B[0;34m(\u001B[0m\u001B[0mmovies_metadata\u001B[0m\u001B[0;34m.\u001B[0m\u001B[0mshape\u001B[0m\u001B[0;34m)\u001B[0m\u001B[0;34m\u001B[0m\u001B[0;34m\u001B[0m\u001B[0m\n\u001B[1;32m      3\u001B[0m \u001B[0mmovies_metadata\u001B[0m\u001B[0;34m.\u001B[0m\u001B[0mhead\u001B[0m\u001B[0;34m(\u001B[0m\u001B[0;34m)\u001B[0m\u001B[0;34m\u001B[0m\u001B[0;34m\u001B[0m\u001B[0m\n",
      "\u001B[0;31mNameError\u001B[0m: name 'pd' is not defined"
     ]
    }
   ],
   "source": [
    "movies_metadata = pd.read_csv('./movie_data/movies_metadata.csv', sep=\",\", dtype=str)\n",
    "print(movies_metadata.shape)\n",
    "movies_metadata.head()"
   ]
  },
  {
   "cell_type": "code",
   "execution_count": 2,
   "id": "meaning-kingdom",
   "metadata": {},
   "outputs": [
    {
     "ename": "NameError",
     "evalue": "name 'movies_metadata' is not defined",
     "output_type": "error",
     "traceback": [
      "\u001B[0;31m---------------------------------------------------------------------------\u001B[0m",
      "\u001B[0;31mNameError\u001B[0m                                 Traceback (most recent call last)",
      "\u001B[0;32m/var/folders/_l/8h89bln50rz22108x46m_0b40000gn/T/ipykernel_40343/1482812495.py\u001B[0m in \u001B[0;36m<module>\u001B[0;34m\u001B[0m\n\u001B[0;32m----> 1\u001B[0;31m \u001B[0mmovies_metadata\u001B[0m \u001B[0;34m=\u001B[0m \u001B[0mmovies_metadata\u001B[0m\u001B[0;34m[\u001B[0m\u001B[0;34m[\u001B[0m\u001B[0;34m'id'\u001B[0m\u001B[0;34m,\u001B[0m \u001B[0;34m'genres'\u001B[0m\u001B[0;34m,\u001B[0m \u001B[0;34m'title'\u001B[0m\u001B[0;34m,\u001B[0m \u001B[0;34m'overview'\u001B[0m\u001B[0;34m,\u001B[0m \u001B[0;34m'release_date'\u001B[0m\u001B[0;34m]\u001B[0m\u001B[0;34m]\u001B[0m\u001B[0;34m\u001B[0m\u001B[0;34m\u001B[0m\u001B[0m\n\u001B[0m\u001B[1;32m      2\u001B[0m \u001B[0mmovies_metadata\u001B[0m\u001B[0;34m.\u001B[0m\u001B[0mhead\u001B[0m\u001B[0;34m(\u001B[0m\u001B[0;34m)\u001B[0m\u001B[0;34m\u001B[0m\u001B[0;34m\u001B[0m\u001B[0m\n",
      "\u001B[0;31mNameError\u001B[0m: name 'movies_metadata' is not defined"
     ]
    }
   ],
   "source": [
    "movies_metadata = movies_metadata[['id', 'genres', 'title', 'overview', 'release_date']]\n",
    "movies_metadata.head()"
   ]
  },
  {
   "cell_type": "code",
   "execution_count": 10,
   "id": "incomplete-botswana",
   "metadata": {},
   "outputs": [
    {
     "data": {
      "text/plain": "      id                                             genres  \\\n0    862  [{'id': 16, 'name': 'Animation'}, {'id': 35, '...   \n1   8844  [{'id': 12, 'name': 'Adventure'}, {'id': 14, '...   \n2  15602  [{'id': 10749, 'name': 'Romance'}, {'id': 35, ...   \n3  31357  [{'id': 35, 'name': 'Comedy'}, {'id': 18, 'nam...   \n4  11862                     [{'id': 35, 'name': 'Comedy'}]   \n\n                         title  \\\n0                    Toy Story   \n1                      Jumanji   \n2             Grumpier Old Men   \n3            Waiting to Exhale   \n4  Father of the Bride Part II   \n\n                                            overview release_date  \n0  Led by Woody, Andy's toys live happily in his ...   1995-10-30  \n1  When siblings Judy and Peter discover an encha...   1995-12-15  \n2  A family wedding reignites the ancient feud be...   1995-12-22  \n3  Cheated on, mistreated and stepped on, the wom...   1995-12-22  \n4  Just when George Banks has recovered from his ...   1995-02-10  ",
      "text/html": "<div>\n<style scoped>\n    .dataframe tbody tr th:only-of-type {\n        vertical-align: middle;\n    }\n\n    .dataframe tbody tr th {\n        vertical-align: top;\n    }\n\n    .dataframe thead th {\n        text-align: right;\n    }\n</style>\n<table border=\"1\" class=\"dataframe\">\n  <thead>\n    <tr style=\"text-align: right;\">\n      <th></th>\n      <th>id</th>\n      <th>genres</th>\n      <th>title</th>\n      <th>overview</th>\n      <th>release_date</th>\n    </tr>\n  </thead>\n  <tbody>\n    <tr>\n      <th>0</th>\n      <td>862</td>\n      <td>[{'id': 16, 'name': 'Animation'}, {'id': 35, '...</td>\n      <td>Toy Story</td>\n      <td>Led by Woody, Andy's toys live happily in his ...</td>\n      <td>1995-10-30</td>\n    </tr>\n    <tr>\n      <th>1</th>\n      <td>8844</td>\n      <td>[{'id': 12, 'name': 'Adventure'}, {'id': 14, '...</td>\n      <td>Jumanji</td>\n      <td>When siblings Judy and Peter discover an encha...</td>\n      <td>1995-12-15</td>\n    </tr>\n    <tr>\n      <th>2</th>\n      <td>15602</td>\n      <td>[{'id': 10749, 'name': 'Romance'}, {'id': 35, ...</td>\n      <td>Grumpier Old Men</td>\n      <td>A family wedding reignites the ancient feud be...</td>\n      <td>1995-12-22</td>\n    </tr>\n    <tr>\n      <th>3</th>\n      <td>31357</td>\n      <td>[{'id': 35, 'name': 'Comedy'}, {'id': 18, 'nam...</td>\n      <td>Waiting to Exhale</td>\n      <td>Cheated on, mistreated and stepped on, the wom...</td>\n      <td>1995-12-22</td>\n    </tr>\n    <tr>\n      <th>4</th>\n      <td>11862</td>\n      <td>[{'id': 35, 'name': 'Comedy'}]</td>\n      <td>Father of the Bride Part II</td>\n      <td>Just when George Banks has recovered from his ...</td>\n      <td>1995-02-10</td>\n    </tr>\n  </tbody>\n</table>\n</div>"
     },
     "execution_count": 10,
     "metadata": {},
     "output_type": "execute_result"
    }
   ],
   "source": [
    "movies_metadata['genres'] = movies_metadata['genres'].apply(literal_eval)\n",
    "movies_metadata.head()"
   ]
  },
  {
   "cell_type": "markdown",
   "id": "4abd5ee3",
   "metadata": {},
   "source": [
    "## 사용할 컬럼 설정"
   ]
  },
  {
   "cell_type": "code",
   "execution_count": 11,
   "id": "collaborative-draft",
   "metadata": {},
   "outputs": [],
   "source": [
    "def get_genre(x):\n",
    "    names = [i['name'] for i in x]\n",
    "    if len(names) > 3:\n",
    "        names = names[:3]\n",
    "    return \" \".join(names)"
   ]
  },
  {
   "cell_type": "code",
   "execution_count": 12,
   "id": "informed-banana",
   "metadata": {},
   "outputs": [],
   "source": [
    "movies_metadata['genres'] = movies_metadata['genres'].apply(lambda x : get_genre(x))"
   ]
  },
  {
   "cell_type": "code",
   "execution_count": 13,
   "id": "large-reality",
   "metadata": {},
   "outputs": [
    {
     "data": {
      "text/plain": "      id                    genres                        title  \\\n0    862   Animation Comedy Family                    Toy Story   \n1   8844  Adventure Fantasy Family                      Jumanji   \n2  15602            Romance Comedy             Grumpier Old Men   \n3  31357      Comedy Drama Romance            Waiting to Exhale   \n4  11862                    Comedy  Father of the Bride Part II   \n\n                                            overview release_date  \n0  Led by Woody, Andy's toys live happily in his ...   1995-10-30  \n1  When siblings Judy and Peter discover an encha...   1995-12-15  \n2  A family wedding reignites the ancient feud be...   1995-12-22  \n3  Cheated on, mistreated and stepped on, the wom...   1995-12-22  \n4  Just when George Banks has recovered from his ...   1995-02-10  ",
      "text/html": "<div>\n<style scoped>\n    .dataframe tbody tr th:only-of-type {\n        vertical-align: middle;\n    }\n\n    .dataframe tbody tr th {\n        vertical-align: top;\n    }\n\n    .dataframe thead th {\n        text-align: right;\n    }\n</style>\n<table border=\"1\" class=\"dataframe\">\n  <thead>\n    <tr style=\"text-align: right;\">\n      <th></th>\n      <th>id</th>\n      <th>genres</th>\n      <th>title</th>\n      <th>overview</th>\n      <th>release_date</th>\n    </tr>\n  </thead>\n  <tbody>\n    <tr>\n      <th>0</th>\n      <td>862</td>\n      <td>Animation Comedy Family</td>\n      <td>Toy Story</td>\n      <td>Led by Woody, Andy's toys live happily in his ...</td>\n      <td>1995-10-30</td>\n    </tr>\n    <tr>\n      <th>1</th>\n      <td>8844</td>\n      <td>Adventure Fantasy Family</td>\n      <td>Jumanji</td>\n      <td>When siblings Judy and Peter discover an encha...</td>\n      <td>1995-12-15</td>\n    </tr>\n    <tr>\n      <th>2</th>\n      <td>15602</td>\n      <td>Romance Comedy</td>\n      <td>Grumpier Old Men</td>\n      <td>A family wedding reignites the ancient feud be...</td>\n      <td>1995-12-22</td>\n    </tr>\n    <tr>\n      <th>3</th>\n      <td>31357</td>\n      <td>Comedy Drama Romance</td>\n      <td>Waiting to Exhale</td>\n      <td>Cheated on, mistreated and stepped on, the wom...</td>\n      <td>1995-12-22</td>\n    </tr>\n    <tr>\n      <th>4</th>\n      <td>11862</td>\n      <td>Comedy</td>\n      <td>Father of the Bride Part II</td>\n      <td>Just when George Banks has recovered from his ...</td>\n      <td>1995-02-10</td>\n    </tr>\n  </tbody>\n</table>\n</div>"
     },
     "execution_count": 13,
     "metadata": {},
     "output_type": "execute_result"
    }
   ],
   "source": [
    "movies_metadata.head()"
   ]
  },
  {
   "cell_type": "code",
   "execution_count": 14,
   "id": "special-florist",
   "metadata": {},
   "outputs": [
    {
     "data": {
      "text/plain": "id               0\ngenres           0\ntitle            0\noverview         0\nrelease_date    71\ndtype: int64"
     },
     "execution_count": 14,
     "metadata": {},
     "output_type": "execute_result"
    }
   ],
   "source": [
    "movies_metadata = movies_metadata[movies_metadata['overview'].notnull()]\n",
    "movies_metadata = movies_metadata[movies_metadata['title'].notnull()]\n",
    "movies_metadata.isna().sum()"
   ]
  },
  {
   "cell_type": "code",
   "execution_count": 15,
   "id": "related-rubber",
   "metadata": {},
   "outputs": [],
   "source": [
    "movies_metadata['feature'] = movies_metadata['genres'] + \" / \" + movies_metadata['title'] + \" / \" + movies_metadata['overview']"
   ]
  },
  {
   "cell_type": "markdown",
   "id": "beginning-insured",
   "metadata": {},
   "source": [
    "# HuggingFace embedding"
   ]
  },
  {
   "cell_type": "code",
   "execution_count": 2,
   "id": "1d862f87",
   "metadata": {},
   "outputs": [
    {
     "ename": "NameError",
     "evalue": "name 'cur_os' is not defined",
     "output_type": "error",
     "traceback": [
      "\u001B[0;31m---------------------------------------------------------------------------\u001B[0m",
      "\u001B[0;31mNameError\u001B[0m                                 Traceback (most recent call last)",
      "\u001B[0;32m/var/folders/_l/8h89bln50rz22108x46m_0b40000gn/T/ipykernel_40274/3298931238.py\u001B[0m in \u001B[0;36m<module>\u001B[0;34m\u001B[0m\n\u001B[0;32m----> 1\u001B[0;31m \u001B[0;32mif\u001B[0m \u001B[0mcur_os\u001B[0m\u001B[0;34m.\u001B[0m\u001B[0mstartswith\u001B[0m\u001B[0;34m(\u001B[0m\u001B[0;34m'win'\u001B[0m\u001B[0;34m)\u001B[0m\u001B[0;34m:\u001B[0m\u001B[0;34m\u001B[0m\u001B[0;34m\u001B[0m\u001B[0m\n\u001B[0m\u001B[1;32m      2\u001B[0m     \u001B[0mmodel\u001B[0m \u001B[0;34m=\u001B[0m \u001B[0mSentenceTransformer\u001B[0m\u001B[0;34m(\u001B[0m\u001B[0;34mf'{model_path}/distiluse-base-multilingual-cased-v2'\u001B[0m\u001B[0;34m)\u001B[0m\u001B[0;34m\u001B[0m\u001B[0;34m\u001B[0m\u001B[0m\n\u001B[1;32m      3\u001B[0m \u001B[0;32melse\u001B[0m\u001B[0;34m:\u001B[0m\u001B[0;34m\u001B[0m\u001B[0;34m\u001B[0m\u001B[0m\n\u001B[1;32m      4\u001B[0m     \u001B[0mmodel\u001B[0m \u001B[0;34m=\u001B[0m \u001B[0mSentenceTransformer\u001B[0m\u001B[0;34m(\u001B[0m\u001B[0;34m\"sentence-transformers/distiluse-base-multilingual-cased-v2\"\u001B[0m\u001B[0;34m)\u001B[0m\u001B[0;34m\u001B[0m\u001B[0;34m\u001B[0m\u001B[0m\n\u001B[1;32m      5\u001B[0m \u001B[0;34m\u001B[0m\u001B[0m\n",
      "\u001B[0;31mNameError\u001B[0m: name 'cur_os' is not defined"
     ]
    }
   ],
   "source": [
    "if cur_os.startswith('win'):\n",
    "    model = SentenceTransformer(f'{model_path}/distiluse-base-multilingual-cased-v2')    \n",
    "else:\n",
    "    model = SentenceTransformer(\"sentence-transformers/distiluse-base-multilingual-cased-v2\")\n",
    "\n",
    "model"
   ]
  },
  {
   "cell_type": "code",
   "execution_count": null,
   "id": "23090b67",
   "metadata": {
    "pycharm": {
     "is_executing": true
    }
   },
   "outputs": [],
   "source": [
    "movies_metadata['hf_embeddings'] = movies_metadata['feature'].apply(lambda x : model.encode(x))\n",
    "movies_metadata.shape"
   ]
  },
  {
   "cell_type": "code",
   "execution_count": 1,
   "id": "infinite-sudan",
   "metadata": {},
   "outputs": [
    {
     "ename": "NameError",
     "evalue": "name 'movies_metadata' is not defined",
     "output_type": "error",
     "traceback": [
      "\u001B[0;31m---------------------------------------------------------------------------\u001B[0m",
      "\u001B[0;31mNameError\u001B[0m                                 Traceback (most recent call last)",
      "\u001B[0;32m/var/folders/_l/8h89bln50rz22108x46m_0b40000gn/T/ipykernel_40274/2311815014.py\u001B[0m in \u001B[0;36m<module>\u001B[0;34m\u001B[0m\n\u001B[0;32m----> 1\u001B[0;31m \u001B[0mprint\u001B[0m\u001B[0;34m(\u001B[0m\u001B[0mmovies_metadata\u001B[0m\u001B[0;34m.\u001B[0m\u001B[0mshape\u001B[0m\u001B[0;34m)\u001B[0m\u001B[0;34m\u001B[0m\u001B[0;34m\u001B[0m\u001B[0m\n\u001B[0m\u001B[1;32m      2\u001B[0m \u001B[0mmovies_metadata\u001B[0m\u001B[0;34m.\u001B[0m\u001B[0mhead\u001B[0m\u001B[0;34m(\u001B[0m\u001B[0;34m)\u001B[0m\u001B[0;34m\u001B[0m\u001B[0;34m\u001B[0m\u001B[0m\n",
      "\u001B[0;31mNameError\u001B[0m: name 'movies_metadata' is not defined"
     ]
    }
   ],
   "source": [
    "print(movies_metadata.shape)\n",
    "movies_metadata.head()"
   ]
  },
  {
   "cell_type": "code",
   "execution_count": 49,
   "id": "exotic-circuit",
   "metadata": {},
   "outputs": [],
   "source": [
    "movies_metadata.to_csv('./movie_data/movies_metadata_em.csv')"
   ]
  },
  {
   "cell_type": "markdown",
   "id": "entertaining-surge",
   "metadata": {},
   "source": [
    "# OpenAI Embedding"
   ]
  },
  {
   "cell_type": "code",
   "execution_count": 26,
   "id": "streaming-ultimate",
   "metadata": {},
   "outputs": [],
   "source": [
    "openai_embedding_model = \"text-embedding-ada-002\""
   ]
  },
  {
   "cell_type": "code",
   "execution_count": 27,
   "id": "progressive-amino",
   "metadata": {},
   "outputs": [],
   "source": [
    "def get_doc_embedding(text: str) -> List[float]:\n",
    "    return get_embedding(text, openai_embedding_model)"
   ]
  },
  {
   "cell_type": "code",
   "execution_count": 28,
   "id": "posted-creator",
   "metadata": {},
   "outputs": [],
   "source": [
    "def get_embedding(text: str, model: str) -> List[float]:\n",
    "    result = openai.Embedding.create(\n",
    "      model=model,\n",
    "      input=text)\n",
    "    return result[\"data\"][0][\"embedding\"]"
   ]
  },
  {
   "cell_type": "code",
   "execution_count": 29,
   "id": "refined-hotel",
   "metadata": {},
   "outputs": [],
   "source": [
    "# movies_metadata['openai_embeddings'] = movies_metadata['feature'].apply(lambda x : get_embedding(x, openai_embedding_model))"
   ]
  },
  {
   "cell_type": "markdown",
   "id": "talented-landing",
   "metadata": {},
   "source": [
    "# 1. 코사인 유사도로 사용자 query 처리하기"
   ]
  },
  {
   "cell_type": "code",
   "execution_count": 30,
   "id": "prime-independence",
   "metadata": {},
   "outputs": [],
   "source": [
    "top_k = 5"
   ]
  },
  {
   "cell_type": "code",
   "execution_count": 671,
   "id": "dedicated-basin",
   "metadata": {},
   "outputs": [],
   "source": [
    "def get_query_sim_top_k(query, model, df, top_k):\n",
    "    query_encode = model.encode(query)\n",
    "    cos_scores = util.pytorch_cos_sim(query_encode, df['hf_embeddings'])[0]\n",
    "    top_results = torch.topk(cos_scores, k=top_k)\n",
    "    return top_results"
   ]
  },
  {
   "cell_type": "markdown",
   "source": [
    "query로 어떤 정보를 받으면 query가 가지고 있는 embedding 정보를 가져오고, 위에서 구한 huggingface embedding과 유사도를 구함.\n",
    "마지막으로 torch.topk를 활용해 top 개수만큼 가져옴"
   ],
   "metadata": {
    "collapsed": false
   }
  },
  {
   "cell_type": "code",
   "execution_count": 32,
   "id": "romantic-category",
   "metadata": {},
   "outputs": [
    {
     "name": "stderr",
     "output_type": "stream",
     "text": [
      "/Users/leesoojin/opt/anaconda3/envs/openai/lib/python3.8/site-packages/sentence_transformers/util.py:39: UserWarning: Creating a tensor from a list of numpy.ndarrays is extremely slow. Please consider converting the list to a single numpy.ndarray with numpy.array() before converting to a tensor. (Triggered internally at /Users/runner/work/pytorch/pytorch/pytorch/torch/csrc/utils/tensor_new.cpp:233.)\n",
      "  b = torch.tensor(b)\n"
     ]
    }
   ],
   "source": [
    "query = \"Are there any documentary films?\"\n",
    "top_result = get_query_sim_top_k(query, model, movies_metadata)"
   ]
  },
  {
   "cell_type": "code",
   "execution_count": 33,
   "id": "provincial-floor",
   "metadata": {},
   "outputs": [
    {
     "data": {
      "text/plain": [
       "torch.return_types.topk(\n",
       "values=tensor([0.5390, 0.5117, 0.5093, 0.5067, 0.4992]),\n",
       "indices=tensor([24020, 10124, 22428, 35263, 22273]))"
      ]
     },
     "execution_count": 33,
     "metadata": {},
     "output_type": "execute_result"
    }
   ],
   "source": [
    "top_result"
   ]
  },
  {
   "cell_type": "code",
   "execution_count": 34,
   "id": "continuing-pasta",
   "metadata": {},
   "outputs": [
    {
     "data": {
      "text/html": [
       "<div>\n",
       "<style scoped>\n",
       "    .dataframe tbody tr th:only-of-type {\n",
       "        vertical-align: middle;\n",
       "    }\n",
       "\n",
       "    .dataframe tbody tr th {\n",
       "        vertical-align: top;\n",
       "    }\n",
       "\n",
       "    .dataframe thead th {\n",
       "        text-align: right;\n",
       "    }\n",
       "</style>\n",
       "<table border=\"1\" class=\"dataframe\">\n",
       "  <thead>\n",
       "    <tr style=\"text-align: right;\">\n",
       "      <th></th>\n",
       "      <th>title</th>\n",
       "      <th>overview</th>\n",
       "      <th>genres</th>\n",
       "    </tr>\n",
       "  </thead>\n",
       "  <tbody>\n",
       "    <tr>\n",
       "      <th>24020</th>\n",
       "      <td>The 50 Worst Movies Ever Made</td>\n",
       "      <td>There are some movies that are so bad they're ...</td>\n",
       "      <td>Documentary</td>\n",
       "    </tr>\n",
       "    <tr>\n",
       "      <th>10124</th>\n",
       "      <td>Trekkies 2</td>\n",
       "      <td>sequel to the 1997 documentary film Trekkies.</td>\n",
       "      <td>Documentary</td>\n",
       "    </tr>\n",
       "    <tr>\n",
       "      <th>22428</th>\n",
       "      <td>The Spanish Earth</td>\n",
       "      <td>A propaganda film made during the Spanish Civi...</td>\n",
       "      <td>War Documentary</td>\n",
       "    </tr>\n",
       "    <tr>\n",
       "      <th>35263</th>\n",
       "      <td>Tomorrow</td>\n",
       "      <td>Documentary film about global warming.</td>\n",
       "      <td>Documentary</td>\n",
       "    </tr>\n",
       "    <tr>\n",
       "      <th>22273</th>\n",
       "      <td>I Know That Voice</td>\n",
       "      <td>A documentary about voice-over actors.</td>\n",
       "      <td>Documentary</td>\n",
       "    </tr>\n",
       "  </tbody>\n",
       "</table>\n",
       "</div>"
      ],
      "text/plain": [
       "                               title  \\\n",
       "24020  The 50 Worst Movies Ever Made   \n",
       "10124                     Trekkies 2   \n",
       "22428              The Spanish Earth   \n",
       "35263                       Tomorrow   \n",
       "22273              I Know That Voice   \n",
       "\n",
       "                                                overview           genres  \n",
       "24020  There are some movies that are so bad they're ...      Documentary  \n",
       "10124      sequel to the 1997 documentary film Trekkies.      Documentary  \n",
       "22428  A propaganda film made during the Spanish Civi...  War Documentary  \n",
       "35263             Documentary film about global warming.      Documentary  \n",
       "22273             A documentary about voice-over actors.      Documentary  "
      ]
     },
     "execution_count": 34,
     "metadata": {},
     "output_type": "execute_result"
    }
   ],
   "source": [
    "movies_metadata.iloc[top_result[1].numpy(), :][['title', 'overview', 'genres']]"
   ]
  },
  {
   "cell_type": "code",
   "execution_count": 35,
   "id": "joined-monday",
   "metadata": {},
   "outputs": [
    {
     "data": {
      "text/html": [
       "<div>\n",
       "<style scoped>\n",
       "    .dataframe tbody tr th:only-of-type {\n",
       "        vertical-align: middle;\n",
       "    }\n",
       "\n",
       "    .dataframe tbody tr th {\n",
       "        vertical-align: top;\n",
       "    }\n",
       "\n",
       "    .dataframe thead th {\n",
       "        text-align: right;\n",
       "    }\n",
       "</style>\n",
       "<table border=\"1\" class=\"dataframe\">\n",
       "  <thead>\n",
       "    <tr style=\"text-align: right;\">\n",
       "      <th></th>\n",
       "      <th>title</th>\n",
       "      <th>overview</th>\n",
       "      <th>genres</th>\n",
       "    </tr>\n",
       "  </thead>\n",
       "  <tbody>\n",
       "    <tr>\n",
       "      <th>38573</th>\n",
       "      <td>Catastrophe</td>\n",
       "      <td>A film cataloguing some of the world's largest...</td>\n",
       "      <td>Thriller Documentary</td>\n",
       "    </tr>\n",
       "    <tr>\n",
       "      <th>11441</th>\n",
       "      <td>When the Levees Broke: A Requiem in Four Acts</td>\n",
       "      <td>In August 2005, the American city of New Orlea...</td>\n",
       "      <td>Documentary</td>\n",
       "    </tr>\n",
       "    <tr>\n",
       "      <th>2404</th>\n",
       "      <td>Earthquake</td>\n",
       "      <td>Earthquake is a 1974 American disaster film th...</td>\n",
       "      <td>Action Drama Thriller</td>\n",
       "    </tr>\n",
       "    <tr>\n",
       "      <th>35263</th>\n",
       "      <td>Tomorrow</td>\n",
       "      <td>Documentary film about global warming.</td>\n",
       "      <td>Documentary</td>\n",
       "    </tr>\n",
       "    <tr>\n",
       "      <th>41943</th>\n",
       "      <td>Disaster!</td>\n",
       "      <td>A spoof of disaster films, an asteroid is comi...</td>\n",
       "      <td>Action Animation Comedy</td>\n",
       "    </tr>\n",
       "  </tbody>\n",
       "</table>\n",
       "</div>"
      ],
      "text/plain": [
       "                                               title  \\\n",
       "38573                                    Catastrophe   \n",
       "11441  When the Levees Broke: A Requiem in Four Acts   \n",
       "2404                                      Earthquake   \n",
       "35263                                       Tomorrow   \n",
       "41943                                      Disaster!   \n",
       "\n",
       "                                                overview  \\\n",
       "38573  A film cataloguing some of the world's largest...   \n",
       "11441  In August 2005, the American city of New Orlea...   \n",
       "2404   Earthquake is a 1974 American disaster film th...   \n",
       "35263             Documentary film about global warming.   \n",
       "41943  A spoof of disaster films, an asteroid is comi...   \n",
       "\n",
       "                        genres  \n",
       "38573     Thriller Documentary  \n",
       "11441              Documentary  \n",
       "2404     Action Drama Thriller  \n",
       "35263              Documentary  \n",
       "41943  Action Animation Comedy  "
      ]
     },
     "execution_count": 35,
     "metadata": {},
     "output_type": "execute_result"
    }
   ],
   "source": [
    "query = \"Are there any movies about natural disasters?\"\n",
    "top_result = get_query_sim_top_k(query, model, movies_metadata)\n",
    "movies_metadata.iloc[top_result[1].numpy(), :][['title', 'overview', 'genres']]"
   ]
  },
  {
   "cell_type": "code",
   "execution_count": 36,
   "id": "serious-serbia",
   "metadata": {},
   "outputs": [
    {
     "data": {
      "text/html": [
       "<div>\n",
       "<style scoped>\n",
       "    .dataframe tbody tr th:only-of-type {\n",
       "        vertical-align: middle;\n",
       "    }\n",
       "\n",
       "    .dataframe tbody tr th {\n",
       "        vertical-align: top;\n",
       "    }\n",
       "\n",
       "    .dataframe thead th {\n",
       "        text-align: right;\n",
       "    }\n",
       "</style>\n",
       "<table border=\"1\" class=\"dataframe\">\n",
       "  <thead>\n",
       "    <tr style=\"text-align: right;\">\n",
       "      <th></th>\n",
       "      <th>title</th>\n",
       "      <th>overview</th>\n",
       "      <th>genres</th>\n",
       "    </tr>\n",
       "  </thead>\n",
       "  <tbody>\n",
       "    <tr>\n",
       "      <th>36936</th>\n",
       "      <td>The Flying Man</td>\n",
       "      <td>A new superhero is coming, only this time it's...</td>\n",
       "      <td>Action Mystery Science Fiction</td>\n",
       "    </tr>\n",
       "    <tr>\n",
       "      <th>30101</th>\n",
       "      <td>Up, Up, and Away</td>\n",
       "      <td>A boy is the only family member without superp...</td>\n",
       "      <td>Action Family TV Movie</td>\n",
       "    </tr>\n",
       "    <tr>\n",
       "      <th>24646</th>\n",
       "      <td>The Four Feathers</td>\n",
       "      <td>They made him a hero by branding him a coward ...</td>\n",
       "      <td>TV Movie Adventure Drama</td>\n",
       "    </tr>\n",
       "    <tr>\n",
       "      <th>12672</th>\n",
       "      <td>Hancock</td>\n",
       "      <td>Hancock is a down-and-out superhero who's forc...</td>\n",
       "      <td>Fantasy Action</td>\n",
       "    </tr>\n",
       "    <tr>\n",
       "      <th>4216</th>\n",
       "      <td>Too Late the Hero</td>\n",
       "      <td>A WWII film set on a Pacific island. Japanese ...</td>\n",
       "      <td>Drama Action War</td>\n",
       "    </tr>\n",
       "  </tbody>\n",
       "</table>\n",
       "</div>"
      ],
      "text/plain": [
       "                   title                                           overview  \\\n",
       "36936     The Flying Man  A new superhero is coming, only this time it's...   \n",
       "30101   Up, Up, and Away  A boy is the only family member without superp...   \n",
       "24646  The Four Feathers  They made him a hero by branding him a coward ...   \n",
       "12672            Hancock  Hancock is a down-and-out superhero who's forc...   \n",
       "4216   Too Late the Hero  A WWII film set on a Pacific island. Japanese ...   \n",
       "\n",
       "                               genres  \n",
       "36936  Action Mystery Science Fiction  \n",
       "30101          Action Family TV Movie  \n",
       "24646        TV Movie Adventure Drama  \n",
       "12672                  Fantasy Action  \n",
       "4216                 Drama Action War  "
      ]
     },
     "execution_count": 36,
     "metadata": {},
     "output_type": "execute_result"
    }
   ],
   "source": [
    "query = \"Are there any movies about heros?\"\n",
    "top_result = get_query_sim_top_k(query, model, movies_metadata)\n",
    "movies_metadata.iloc[top_result[1].numpy(), :][['title', 'overview', 'genres']]"
   ]
  },
  {
   "cell_type": "markdown",
   "id": "burning-venice",
   "metadata": {},
   "source": [
    "https://www.imdb.com/title/tt0211174/?ref_=fn_al_tt_1"
   ]
  },
  {
   "cell_type": "markdown",
   "id": "painful-drama",
   "metadata": {},
   "source": [
    "# 2. ChatGPT 이용\n",
    "\n",
    "- 2개의 chatgpt 이용\n",
    "    - 1개는 이 질문의 의도를 파악하는 것. 설명을 원하는 것인지, 추천을 해달라는 것인지\n",
    "    - 각 분류에 따라 문구가 달라짐\n",
    "        - 질문의 의도면 가장 유사한 텍스트를 가져와서 설명해주는 것\n",
    "        - 추천이면, cossim topk를 가져와서 출력하도록"
   ]
  },
  {
   "cell_type": "code",
   "execution_count": 1,
   "outputs": [],
   "source": [
    "# 기본적인 chatGPT python example 입니다.\n",
    "# import openai\n",
    "#\n",
    "# completion = openai.ChatCompletion.create(\n",
    "#     model=\"gpt-3.5-turbo\",\n",
    "#     messages=[{\"role\": \"user\", \"content\": \"Tell the world about the ChatGPT API in the style of a pirate.\"}]\n",
    "# )\n",
    "#\n",
    "# print(completion)"
   ],
   "metadata": {
    "collapsed": false
   }
  },
  {
   "cell_type": "code",
   "execution_count": 2,
   "outputs": [],
   "source": [
    "# Response format\n",
    "# https://platform.openai.com/docs/guides/chat/introduction\n",
    "\n",
    "# {\n",
    "#     'id': 'chatcmpl-6p9XYPYSTTRi0xEviKjjilqrWU2Ve',\n",
    "#     'object': 'chat.completion',\n",
    "#     'created': 1677649420,\n",
    "#     'model': 'gpt-3.5-turbo',\n",
    "#     'usage': {'prompt_tokens': 56, 'completion_tokens': 31, 'total_tokens': 87},\n",
    "#     'choices': [\n",
    "#         {\n",
    "#             'message': {\n",
    "#                 'role': 'assistant',\n",
    "#                 'content': 'The 2020 World Series was played in Arlington, Texas at the Globe Life Field, which was the new home stadium for the Texas Rangers.'},\n",
    "#             'finish_reason': 'stop',\n",
    "#             'index': 0\n",
    "#         }\n",
    "#     ]\n",
    "# }"
   ],
   "metadata": {
    "collapsed": false
   }
  },
  {
   "cell_type": "code",
   "execution_count": 37,
   "id": "greater-underwear",
   "metadata": {},
   "outputs": [],
   "source": [
    "def print_msg(msg):\n",
    "    completion = openai.ChatCompletion.create(\n",
    "                    model=\"gpt-3.5-turbo\",\n",
    "                    messages=msg\n",
    "                    )\n",
    "    return completion['choices'][0]['message']['content'] # chatGPT 답"
   ]
  },
  {
   "cell_type": "markdown",
   "id": "a356862b",
   "metadata": {},
   "source": [
    "## Prompt test"
   ]
  },
  {
   "cell_type": "markdown",
   "source": [
    "ChatGPT의 prompt는 사용자의 의도(intent)를 파악하는 prompt -> 따로 분류 모델을 만들지 않고도 ChatGPT로 분류 모델과 같은 zero-shot 형태를 구축가능!"
   ],
   "metadata": {
    "collapsed": false
   }
  },
  {
   "cell_type": "code",
   "execution_count": 38,
   "id": "synthetic-touch",
   "metadata": {},
   "outputs": [
    {
     "data": {
      "text/plain": [
       "'description'"
      ]
     },
     "execution_count": 38,
     "metadata": {},
     "output_type": "execute_result"
    }
   ],
   "source": [
    "messages = [\n",
    "    {\"role\": \"system\", \"content\": \"You are a helpful assistant who understands the intent of the user's question.\"},\n",
    "    {\"role\": \"user\", \"content\": \"Which category does the sentence below belong to: 'description', 'recommended'? Show only categories. \\n context: tell me about instagram \\n A:\"}\n",
    "]\n",
    "\n",
    "\n",
    "print_msg(messages)"
   ]
  },
  {
   "cell_type": "code",
   "execution_count": 39,
   "id": "powerful-savings",
   "metadata": {},
   "outputs": [
    {
     "data": {
      "text/plain": [
       "'recommend'"
      ]
     },
     "execution_count": 39,
     "metadata": {},
     "output_type": "execute_result"
    }
   ],
   "source": [
    "messages = [\n",
    "    {\"role\": \"system\", \"content\": \"You are a helpful assistant who understands the intent of the user's question.\"},\n",
    "    {\"role\": \"user\", \"content\": \"Which category does the sentence below belong to: 'description', 'recommend'? Show only categories. \\n context: What apps are similar to Instagram? \\n A:\"}\n",
    "]\n",
    "\n",
    "\n",
    "print_msg(messages)\n",
    "\n"
   ]
  },
  {
   "cell_type": "code",
   "execution_count": 40,
   "id": "still-outdoors",
   "metadata": {},
   "outputs": [
    {
     "data": {
      "text/plain": [
       "'recommend'"
      ]
     },
     "execution_count": 40,
     "metadata": {},
     "output_type": "execute_result"
    }
   ],
   "source": [
    "messages = [\n",
    "    {\"role\": \"system\", \"content\": \"You are a helpful assistant who understands the intent of the user's question.\"},\n",
    "    {\"role\": \"user\", \"content\": \"Which category does the sentence below belong to: 'description', 'recommend'? Show only categories. \\n context: Recommend apps similar to Instagram. \\n A:\"}\n",
    "]\n",
    "\n",
    "\n",
    "print_msg(messages)"
   ]
  },
  {
   "cell_type": "code",
   "execution_count": 41,
   "id": "equal-income",
   "metadata": {},
   "outputs": [
    {
     "data": {
      "text/plain": [
       "'Here are some apps similar to Instagram that you might want to check out:'"
      ]
     },
     "execution_count": 41,
     "metadata": {},
     "output_type": "execute_result"
    }
   ],
   "source": [
    "messages = [\n",
    "    {\"role\": \"system\", \"content\": \"You are a helpful assistant who recommend contents.\"},\n",
    "    {\"role\": \"user\", \"content\": \"Simply repeat the provided context and put a sentence in front of the context. \\n context: Recommend apps similar to Instagram.\"}\n",
    "]\n",
    "\n",
    "\n",
    "print_msg(messages)"
   ]
  },
  {
   "cell_type": "code",
   "execution_count": 42,
   "id": "saving-lincoln",
   "metadata": {},
   "outputs": [
    {
     "data": {
      "text/plain": [
       "'Here are some apps like Instagram that you might find helpful!'"
      ]
     },
     "execution_count": 42,
     "metadata": {},
     "output_type": "execute_result"
    }
   ],
   "source": [
    "messages = [\n",
    "    {\"role\": \"system\", \"content\": \"You are a helpful assistant who recommend contents.\"},\n",
    "    {\"role\": \"user\", \"content\": \"Simplify the sentences for recommending services \\n context: Recommend apps similar to Instagram.\"}\n",
    "]\n",
    "\n",
    "\n",
    "print_msg(messages)"
   ]
  },
  {
   "cell_type": "code",
   "execution_count": 43,
   "id": "interstate-director",
   "metadata": {},
   "outputs": [
    {
     "data": {
      "text/plain": [
       "\"Of course! I'd be happy to explain the item to you.\""
      ]
     },
     "execution_count": 43,
     "metadata": {},
     "output_type": "execute_result"
    }
   ],
   "source": [
    "messages = [\n",
    "    {\"role\": \"system\", \"content\": \"You are a helpful assistant who kindly answers.\"},\n",
    "    {\"role\": \"user\", \"content\": \"Please write a simple greeting starting with 'of course' to explain the item to the user.\"}\n",
    "]\n",
    "\n",
    "\n",
    "print_msg(messages)"
   ]
  },
  {
   "cell_type": "code",
   "execution_count": 44,
   "id": "introductory-phrase",
   "metadata": {},
   "outputs": [
    {
     "data": {
      "text/plain": [
       "\"Of course! I'd be happy to recommend some great items for you.\""
      ]
     },
     "execution_count": 44,
     "metadata": {},
     "output_type": "execute_result"
    }
   ],
   "source": [
    "messages = [\n",
    "    {\"role\": \"system\", \"content\": \"You are a helpful assistant who recommend contents based on user question.\"},\n",
    "    {\"role\": \"user\", \"content\": \"Write 1 sentence of a simple greeting that starts with 'Of course!' to recommend items to users.\"}\n",
    "]\n",
    "\n",
    "\n",
    "print_msg(messages)"
   ]
  },
  {
   "cell_type": "code",
   "execution_count": 103,
   "id": "f4b35964",
   "metadata": {},
   "outputs": [
    {
     "data": {
      "text/html": [
       "<div>\n",
       "<style scoped>\n",
       "    .dataframe tbody tr th:only-of-type {\n",
       "        vertical-align: middle;\n",
       "    }\n",
       "\n",
       "    .dataframe tbody tr th {\n",
       "        vertical-align: top;\n",
       "    }\n",
       "\n",
       "    .dataframe thead th {\n",
       "        text-align: right;\n",
       "    }\n",
       "</style>\n",
       "<table border=\"1\" class=\"dataframe\">\n",
       "  <thead>\n",
       "    <tr style=\"text-align: right;\">\n",
       "      <th></th>\n",
       "      <th>title</th>\n",
       "      <th>overview</th>\n",
       "      <th>genres</th>\n",
       "    </tr>\n",
       "  </thead>\n",
       "  <tbody>\n",
       "    <tr>\n",
       "      <th>36936</th>\n",
       "      <td>The Flying Man</td>\n",
       "      <td>A new superhero is coming, only this time it's...</td>\n",
       "      <td>Action Mystery Science Fiction</td>\n",
       "    </tr>\n",
       "    <tr>\n",
       "      <th>30101</th>\n",
       "      <td>Up, Up, and Away</td>\n",
       "      <td>A boy is the only family member without superp...</td>\n",
       "      <td>Action Family TV Movie</td>\n",
       "    </tr>\n",
       "    <tr>\n",
       "      <th>24646</th>\n",
       "      <td>The Four Feathers</td>\n",
       "      <td>They made him a hero by branding him a coward ...</td>\n",
       "      <td>TV Movie Adventure Drama</td>\n",
       "    </tr>\n",
       "    <tr>\n",
       "      <th>12672</th>\n",
       "      <td>Hancock</td>\n",
       "      <td>Hancock is a down-and-out superhero who's forc...</td>\n",
       "      <td>Fantasy Action</td>\n",
       "    </tr>\n",
       "    <tr>\n",
       "      <th>4216</th>\n",
       "      <td>Too Late the Hero</td>\n",
       "      <td>A WWII film set on a Pacific island. Japanese ...</td>\n",
       "      <td>Drama Action War</td>\n",
       "    </tr>\n",
       "  </tbody>\n",
       "</table>\n",
       "</div>"
      ],
      "text/plain": [
       "                   title                                           overview  \\\n",
       "36936     The Flying Man  A new superhero is coming, only this time it's...   \n",
       "30101   Up, Up, and Away  A boy is the only family member without superp...   \n",
       "24646  The Four Feathers  They made him a hero by branding him a coward ...   \n",
       "12672            Hancock  Hancock is a down-and-out superhero who's forc...   \n",
       "4216   Too Late the Hero  A WWII film set on a Pacific island. Japanese ...   \n",
       "\n",
       "                               genres  \n",
       "36936  Action Mystery Science Fiction  \n",
       "30101          Action Family TV Movie  \n",
       "24646        TV Movie Adventure Drama  \n",
       "12672                  Fantasy Action  \n",
       "4216                 Drama Action War  "
      ]
     },
     "execution_count": 103,
     "metadata": {},
     "output_type": "execute_result"
    }
   ],
   "source": [
    "movies_metadata.iloc[top_result[1].numpy(), :][['title', 'overview', 'genres']]"
   ]
  },
  {
   "cell_type": "markdown",
   "id": "34ee1584",
   "metadata": {},
   "source": [
    "## 3. 필요한 Prompt 설정\n",
    "\n",
    "- 추천인가? 설명인가? 의도 파악인가? 후 답변 내놓도록 분기 처리!"
   ]
  },
  {
   "cell_type": "code",
   "execution_count": 815,
   "id": "split-scotland",
   "metadata": {},
   "outputs": [],
   "source": [
    "# 사용자의 쿼리 의도에 따라 진행할 수 있게끔 chatGPT 한테 넣어줄 쿼리문 미리 작성\n",
    "\n",
    "msg_prompt = {\n",
    "    'recom' : {\n",
    "                'system' : \"You are a helpful assistant who recommend movie based on user question.\", \n",
    "                'user' : \"Write 1 sentence of a simple greeting that starts with 'Of course!' to recommend movie items to users.\", \n",
    "              },\n",
    "    'desc' : {\n",
    "                'system' : \"You are a helpful assistant who kindly answers.\", \n",
    "                'user' : \"Please write a simple greeting starting with 'of course' to explain the item to the user.\", \n",
    "              },\n",
    "    'intent' : {\n",
    "                'system' : \"You are a helpful assistant who understands the intent of the user's question.\",\n",
    "                'user' : \"Which category does the sentence below belong to: 'description', 'recommended', 'search'? Show only categories. \\n context:\"\n",
    "                }\n",
    "}"
   ]
  },
  {
   "cell_type": "code",
   "execution_count": 870,
   "id": "biological-mustang",
   "metadata": {},
   "outputs": [],
   "source": [
    "user_msg_history = []"
   ]
  },
  {
   "cell_type": "code",
   "execution_count": 871,
   "id": "d8b72193",
   "metadata": {},
   "outputs": [],
   "source": [
    "# chatGPT 답변 내놓는 함수\n",
    "\n",
    "def get_chatgpt_msg(msg):\n",
    "    completion = openai.ChatCompletion.create(\n",
    "                    model=\"gpt-3.5-turbo\",\n",
    "                    messages=msg\n",
    "                    )\n",
    "    return completion['choices'][0]['message']['content']"
   ]
  },
  {
   "cell_type": "code",
   "execution_count": 872,
   "id": "partial-device",
   "metadata": {},
   "outputs": [],
   "source": [
    "# 검색, 추천, 설명 파악 후 답변 내놓는 분기 처리하는 프론포터 설정\n",
    "\n",
    "def set_prompt(intent, query, msg_prompt_init, model):\n",
    "    '''prompt 형태를 만들어주는 함수'''\n",
    "    m = dict()\n",
    "    # 검색 또는 추천이면\n",
    "    if ('recom' in intent) or ('search' in intent):\n",
    "        msg = msg_prompt_init['recom'] # 추천해달라는 소개문구 시스템 메세지를 가지고오고\n",
    "    # 설명문이면\n",
    "    elif 'desc' in intent:\n",
    "        msg = msg_prompt_init['desc'] # 설명해달라는 소개문구 시스템 메세지를 가지고오고\n",
    "    # intent 파악\n",
    "    else:\n",
    "        msg = msg_prompt_init['intent']\n",
    "        msg['user'] += f' {query} \\n A:' # msg user에 사용자 질문 추가\n",
    "    for k, v in msg.items():\n",
    "        m['role'], m['content'] = k, v\n",
    "    return [m]"
   ]
  },
  {
   "cell_type": "code",
   "execution_count": 872,
   "id": "50db26ff",
   "metadata": {},
   "outputs": [],
   "source": [
    "def user_interact(query, model, msg_prompt_init):\n",
    "    # 1. 사용자의 의도를 파악\n",
    "    user_intent = set_prompt('intent', query, msg_prompt_init, None)\n",
    "    user_intent = get_chatgpt_msg(user_intent).lower()\n",
    "    print(\"user_intent : \", user_intent)\n",
    "    \n",
    "    # 2. 사용자의 의도에 따라 prompt 생성 & 의도에 맞는 소개 문구 출력\n",
    "    intent_data = set_prompt(user_intent, query, msg_prompt_init, model)\n",
    "    intent_data_msg = get_chatgpt_msg(intent_data).replace(\"\\n\", \"\").strip()\n",
    "    print(\"intent_data_msg : \", intent_data_msg)\n",
    "    \n",
    "    # 3-1. 추천 또는 검색이면\n",
    "    if ('recom' in user_intent) or ('search' in user_intent):\n",
    "        recom_msg = str()\n",
    "        # 기존에 메세지가 있으면 쿼리로 대체\n",
    "        if (len(user_msg_history) > 0 ) and (user_msg_history[-1]['role'] == 'assistant'):\n",
    "            query = user_msg_history[-1]['content']['feature']\n",
    "        # 유사 아이템 가져오기\n",
    "        #top_result = get_query_sim_top_k(query, model, movies_metadata, top_k=1 if 'recom' in user_intent else 3) # 추천 개수 설정하려면!\n",
    "        top_result = get_query_sim_top_k(query, model, movies_metadata, top_k=3)\n",
    "        #print(\"top_result : \", top_result)\n",
    "        # 검색이면, 자기 자신의 컨텐츠는 제외 -> 추천 , 검색 되는 영화 index\n",
    "        top_index = top_result[1].numpy() if 'recom' in user_intent else top_result[1].numpy()[1:]\n",
    "        #print(\"top_index : \", top_index)\n",
    "        # 장르, 제목, overview를 가져와서 출력\n",
    "        r_set_d = movies_metadata.iloc[top_index, :][['genres', 'title', 'overview']]\n",
    "        r_set_d = json.loads(r_set_d.to_json(orient=\"records\"))\n",
    "        for r in r_set_d:\n",
    "            for _, v in r.items():\n",
    "                recom_msg += f\"{v} \\n\"\n",
    "            recom_msg += \"\\n\"\n",
    "        user_msg_history.append({'role' : 'assistant', 'content' : f\"{intent_data_msg} {str(recom_msg)}\"})\n",
    "        print(f\"\\n recom data : {intent_data_msg} {str(recom_msg)}\")\n",
    "    # 3-2. 설명이면\n",
    "    elif 'desc' in user_intent:\n",
    "        # 이전 메세지에 따라서 설명을 가져와야 하기 때문에 이전 메세지 컨텐츠를 가져옴\n",
    "        top_result = get_query_sim_top_k(user_msg_history[-1]['content'], model, movies_metadata, top_k=1)\n",
    "        # feature가 상세 설명이라고 가정하고 해당 컬럼의 값을 가져와 출력\n",
    "        r_set_d = movies_metadata.iloc[top_result[1].numpy(), :][['feature']]\n",
    "        r_set_d = json.loads(r_set_d.to_json(orient=\"records\"))[0]\n",
    "        user_msg_history.append({'role' : 'assistant', 'content' : r_set_d})\n",
    "        print(f\"\\n describe : {intent_data_msg} {r_set_d}\")"
   ]
  },
  {
   "cell_type": "markdown",
   "id": "be150f32",
   "metadata": {},
   "source": [
    "## 쿼리에 따른 추천 프로세스 실행"
   ]
  },
  {
   "cell_type": "code",
   "execution_count": 874,
   "id": "modern-cover",
   "metadata": {},
   "outputs": [
    {
     "name": "stdout",
     "output_type": "stream",
     "text": [
      "user_intent :  recommended\n",
      "intent_data_msg :  Of course! Here are some top-rated movie items that you might enjoy.\n",
      "\n",
      " recom data : Of course! Here are some top-rated movie items that you might enjoy. \n",
      "\n",
      "X-Men \n",
      "Two mutants, Rogue and Wolverine, come to a private academy for their kind whose resident superhero team, the X-Men, must oppose a terrorist organization with similar powers. \n",
      "\n",
      "\n"
     ]
    }
   ],
   "source": [
    "query = \"Please recommend a movie similar to a marvel heros movie.\"\n",
    "user_interact(query, model, copy.deepcopy(msg_prompt))"
   ]
  },
  {
   "cell_type": "code",
   "execution_count": 876,
   "id": "mathematical-gabriel",
   "metadata": {},
   "outputs": [
    {
     "name": "stdout",
     "output_type": "stream",
     "text": [
      "user_intent :  description\n",
      "intent_data_msg :  Of course! Let me explain what this item is and how it works.\n",
      "\n",
      " describe : Of course! Let me explain what this item is and how it works. {'feature': 'Adventure Action Science Fiction / X-Men / Two mutants, Rogue and Wolverine, come to a private academy for their kind whose resident superhero team, the X-Men, must oppose a terrorist organization with similar powers.'}\n"
     ]
    }
   ],
   "source": [
    "query = \"Can you describe on the above?\"\n",
    "user_interact(query, model, copy.deepcopy(msg_prompt))"
   ]
  },
  {
   "cell_type": "code",
   "execution_count": 877,
   "id": "515afec7",
   "metadata": {},
   "outputs": [
    {
     "data": {
      "text/plain": [
       "[{'role': 'assistant',\n",
       "  'content': 'Of course! Here are some top-rated movie items that you might enjoy. \\n\\nX-Men \\nTwo mutants, Rogue and Wolverine, come to a private academy for their kind whose resident superhero team, the X-Men, must oppose a terrorist organization with similar powers. \\n\\n'},\n",
       " {'role': 'assistant',\n",
       "  'content': {'feature': 'Adventure Action Science Fiction / X-Men / Two mutants, Rogue and Wolverine, come to a private academy for their kind whose resident superhero team, the X-Men, must oppose a terrorist organization with similar powers.'}}]"
      ]
     },
     "execution_count": 877,
     "metadata": {},
     "output_type": "execute_result"
    }
   ],
   "source": [
    "user_msg_history"
   ]
  },
  {
   "cell_type": "code",
   "execution_count": 878,
   "id": "978cee80",
   "metadata": {},
   "outputs": [
    {
     "name": "stdout",
     "output_type": "stream",
     "text": [
      "user_intent :  'search'\n",
      "intent_data_msg :  Of course! We have a great selection of movie items that will fit your every need.\n",
      "\n",
      " recom data : Of course! We have a great selection of movie items that will fit your every need. \n",
      "X-Men: Days of Future Past \n",
      "The ultimate X-Men ensemble fights a war for the survival of the species across two time periods as they join forces with their younger selves in an epic battle that must change the past – to save our future. \n",
      "\n",
      "\n"
     ]
    }
   ],
   "source": [
    "query = \"Are there other movies that are similar to the ones above?\"\n",
    "user_interact(query, model, copy.deepcopy(msg_prompt))"
   ]
  }
 ],
 "metadata": {
  "kernelspec": {
   "name": "python3",
   "language": "python",
   "display_name": "Python 3 (ipykernel)"
  },
  "language_info": {
   "codemirror_mode": {
    "name": "ipython",
    "version": 3
   },
   "file_extension": ".py",
   "mimetype": "text/x-python",
   "name": "python",
   "nbconvert_exporter": "python",
   "pygments_lexer": "ipython3",
   "version": "3.8.16"
  }
 },
 "nbformat": 4,
 "nbformat_minor": 5
}
